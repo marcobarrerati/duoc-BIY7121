{
 "cells": [
  {
   "cell_type": "markdown",
   "metadata": {},
   "source": [
    "# Random Forest\n",
    "\n",
    "* Es un modelo de aprendizaje conjunto basado en múltiples árboles de decisión.\n",
    "* Puede manejar tanto tareas de clasificación como de regresión y es robusto frente al sobreajuste, lo que lo hace adecuado para predecir diversas variables meteorológicas."
   ]
  },
  {
   "cell_type": "code",
   "execution_count": 55,
   "metadata": {},
   "outputs": [],
   "source": [
    "import pandas as pd\n",
    "from sklearn.model_selection import train_test_split\n",
    "from sklearn.ensemble import RandomForestClassifier\n",
    "from sklearn.metrics import classification_report, confusion_matrix, accuracy_score\n",
    "from sklearn.preprocessing import StandardScaler\n",
    "import joblib\n",
    "\n",
    "# Cargar el conjunto de datos WeatherAUS\n",
    "data = pd.read_csv('../dataset/weatherAUS.csv')\n",
    "\n",
    "# 1- creamos el grupo con las ciudades costeras (exploración de la evaluación 02)\n",
    "grupo01 = data[data['Location'].isin(['Adelaide', 'Cairns', 'Brisbane', 'Gold Coast', 'Hobart', 'Darwin', 'Perth', 'Townsville', 'Sydney', 'Fremantle', 'Wollongong'])]\n",
    "\n",
    "grupo01_1 = grupo01.copy()\n",
    "grupo01_1['Date']  = pd.to_datetime(data['Date'])\n",
    "grupo01_1['Year'] = grupo01_1['Date'].dt.year\n",
    "grupo01_1['Month'] = grupo01_1['Date'].dt.month\n",
    "grupo01_1['Day'] = grupo01_1['Date'].dt.day\n",
    "grupo01_1['WeekDay'] = grupo01_1['Date'].dt.weekday\n",
    "\n",
    "from sklearn.preprocessing import LabelEncoder\n",
    "\n",
    "le = LabelEncoder()\n",
    "grupo01_1['Location'] = le.fit_transform(grupo01_1['Location'])\n",
    "\n",
    "\n",
    "conjunto_de_datos_para_primer_modelo = grupo01_1[['MaxTemp','MinTemp','Month','Day','WindSpeed3pm','WindSpeed9am', 'Location']]\n",
    "\n",
    "conjunto_de_datos_para_primer_modelo = conjunto_de_datos_para_primer_modelo.dropna()\n",
    "\n",
    "X = conjunto_de_datos_para_primer_modelo.drop(['Location'], axis=1)\n",
    "y = conjunto_de_datos_para_primer_modelo['Location']\n",
    "\n",
    "from sklearn.preprocessing import StandardScaler\n",
    "stscaler= StandardScaler()\n",
    "# standardization\n",
    "X_scale = stscaler.fit_transform(X)\n",
    "\n",
    "from sklearn.model_selection import train_test_split\n",
    "X_train, X_test, y_train, y_test = train_test_split(X, y, test_size = 0.33, random_state = 42)\n",
    "\n",
    "\n",
    "\n"
   ]
  },
  {
   "cell_type": "code",
   "execution_count": 56,
   "metadata": {},
   "outputs": [
    {
     "name": "stdout",
     "output_type": "stream",
     "text": [
      "Model accuracy score with 10 decision-trees : 0.6130\n"
     ]
    }
   ],
   "source": [
    "rfc = RandomForestClassifier(random_state=0, criterion='entropy')\n",
    "\n",
    "# entrenar el modelo\n",
    "rfc.fit(X_train, y_train)\n",
    "\n",
    "# predecir el conjunto de x test\n",
    "y_pred = rfc.predict(X_test)\n",
    "\n",
    "\n",
    "# revisar la precisión del modelo\n",
    "from sklearn.metrics import accuracy_score\n",
    "print('Model accuracy score with 10 decision-trees : {0:0.4f}'. format(accuracy_score(y_test, y_pred)))\n"
   ]
  },
  {
   "cell_type": "markdown",
   "metadata": {},
   "source": [
    "## Interpretación\n",
    "\n",
    "### Reporte de Clasificación (Classification Report)\n",
    "\n",
    "El classification report nos entrega una visión completa del rendimiento del modelo de clasificación multiclase, esto nos permite identificar áreas de mejora y tomar \n",
    "medidas adecuadas para optimizar el rendimiento del modelo."
   ]
  },
  {
   "cell_type": "code",
   "execution_count": 57,
   "metadata": {},
   "outputs": [
    {
     "name": "stdout",
     "output_type": "stream",
     "text": [
      "\n",
      "Classification Report:\n",
      "               precision    recall  f1-score   support\n",
      "\n",
      "           0       0.51      0.42      0.46      1012\n",
      "           1       0.69      0.77      0.73      1065\n",
      "           2       0.58      0.62      0.60       986\n",
      "           3       0.77      0.83      0.80      1022\n",
      "           4       0.76      0.76      0.76      1054\n",
      "           5       0.54      0.53      0.53      1054\n",
      "           6       0.50      0.50      0.50      1084\n",
      "           7       0.61      0.57      0.59      1016\n",
      "           8       0.50      0.51      0.50       960\n",
      "\n",
      "    accuracy                           0.61      9253\n",
      "   macro avg       0.61      0.61      0.61      9253\n",
      "weighted avg       0.61      0.61      0.61      9253\n",
      "\n"
     ]
    }
   ],
   "source": [
    "print(\"\\nClassification Report:\\n\", classification_report(y_test, y_pred))"
   ]
  },
  {
   "cell_type": "markdown",
   "metadata": {},
   "source": [
    "#### Precision\n",
    "La precisión (precision) indica la proporción de predicciones positivas que fueron correctas. En este contexto multiclase, se calcula para cada clase por separado.\n",
    "\n",
    "* Para la clase 0, la precisión es 0.60. Esto significa que del total de predicciones que el modelo hizo como clase 0, el 60% fueron realmente correctas.\n",
    "* Para la clase 1, la precisión es 0.80, indicando que el 80% de las predicciones hechas como clase 1 fueron correctas.\n",
    "* Este patrón se repite para cada clase de 0 a 8.\n",
    "\n",
    "#### Recall\n",
    "El recall (recall) es la proporción de instancias positivas que fueron correctamente detectadas por el modelo. También se calcula para cada clase por separado.\n",
    "\n",
    "* Para la clase 0, el recall es 0.49. Esto significa que el modelo identificó correctamente el 49% de todas las instancias que pertenecían realmente a la clase 0.\n",
    "* Para la clase 1, el recall es 0.82, lo que indica que el modelo detectó correctamente el 82% de todas las instancias que eran realmente clase 1.\n",
    "* Similarmente, se calcula para cada clase de 0 a 8.\n",
    "\n",
    "#### F1-score\n",
    "El F1-score (F1-score) es la media armónica de precision y recall. Proporciona un balance entre precision y recall y es útil cuando las clases están desequilibradas.\n",
    "\n",
    "* Para la clase 0, el F1-score es 0.54. Un valor bajo puede indicar que hay un desbalance entre precision y recall para esta clase.\n",
    "* Para la clase 1, el F1-score es 0.81, lo que indica un buen balance entre precision y recall para esta clase.\n",
    "* Se calcula para cada clase de 0 a 8.\n",
    "\n",
    "#### Support\n",
    "El support indica el número de muestras reales en cada clase en el conjunto de datos de prueba.\n",
    "\n",
    "Por ejemplo, hay 1029 muestras para la clase 0, 1036 muestras para la clase 1, y así sucesivamente hasta la clase 8.\n",
    "\n",
    "#### Interpretación General\n",
    "El modelo parece tener un buen desempeño general con F1-scores que oscilan principalmente entre 0.54 y 0.85, lo cual indica una capacidad razonable de hacer predicciones precisas y detectar correctamente las instancias de cada clase.\n",
    "\n",
    "Sin embargo, la clase 0 muestra una precisión y recall relativamente bajos en comparación con otras clases, lo que podría indicar que el modelo tiene dificultades para distinguir esta clase de otras.\n",
    "\n",
    "Las clases 3 y 4 muestran F1-scores altos, lo que sugiere que el modelo es efectivo para predecir estas clases en particular.\n",
    "\n",
    "### Sugerencias de mejora\n",
    "\n",
    "* Para mejorar el modelo, vamos a considerar estrategias como ajustar los hiperparámetros , realizar ingeniería de características adicionales, también podriamos probar con diferentes algoritmos de clasificación para ver si alguno ofrece un rendimiento mejorado en las clases con puntajes F1 más bajos.\n",
    "\n",
    "* También es útil visualizar la matriz de confusión para obtener una comprensión más detallada de cómo el modelo está clasificando las muestras en diferentes clases"
   ]
  },
  {
   "cell_type": "markdown",
   "metadata": {},
   "source": [
    "### Matriz de Confusión\n",
    "\n",
    "Esta herramienta es fundamental para evaluar el rendimiento de un modelo de clasificación multiclase. Cada fila de la matriz representa las instancias en una clase real, mientras que cada columna representa las instancias en una clase predicha por el modelo\n",
    "\n",
    "* Uso de la Confusion Matrix: La matriz de confusión te proporciona información detallada sobre el rendimiento del modelo en términos de:\n",
    "\n",
    "|||\n",
    "|--|--|\n",
    "|Verdaderos Positivos (TP):| Predicciones correctas para cada clase.|\n",
    "|Falsos Positivos (FP):| Instancias que el modelo predijo incorrectamente como pertenecientes a esa clase.|\n",
    "|Verdaderos Negativos (TN):| Instancias que el modelo predijo correctamente como no pertenecientes a esa clase.|\n",
    "|Falsos Negativos (FN):| Instancias que el modelo predijo incorrectamente como no pertenecientes a esa clase.|\n",
    "\n"
   ]
  },
  {
   "cell_type": "code",
   "execution_count": 58,
   "metadata": {},
   "outputs": [
    {
     "name": "stdout",
     "output_type": "stream",
     "text": [
      "\n",
      "Confusion Matrix:\n",
      " [[425  59  11  12 132 176  91   9  97]\n",
      " [ 20 818  37  17   0  82  48  16  27]\n",
      " [  6  49 613  94   0   4   8 211   1]\n",
      " [  0  11  83 846   0   3   1  77   1]\n",
      " [ 88   3   0   0 801  46  56   5  55]\n",
      " [154  90   6   6  35 561 118   9  75]\n",
      " [ 49  70  20  15  44  88 542  28 228]\n",
      " [  6  27 272 102   0   9  16 577   7]\n",
      " [ 80  52  11   1  41  76 198  12 489]]\n"
     ]
    }
   ],
   "source": [
    "print(\"\\nConfusion Matrix:\\n\", confusion_matrix(y_test, y_pred))"
   ]
  },
  {
   "cell_type": "code",
   "execution_count": 59,
   "metadata": {},
   "outputs": [
    {
     "data": {
      "image/png": "[encoded data removed]",
      "text/plain": [
       "<Figure size 1000x800 with 2 Axes>"
      ]
     },
     "metadata": {},
     "output_type": "display_data"
    }
   ],
   "source": [
    "import matplotlib.pyplot as plt\n",
    "import numpy as np\n",
    "\n",
    "# Ejemplo de matriz de confusión (sustituye con tus datos reales)\n",
    "conf_matrix = confusion_matrix(y_test, y_pred)\n",
    "\n",
    "# Función para visualizar la matriz de confusión\n",
    "def plot_confusion_matrix(conf_matrix):\n",
    "    plt.figure(figsize=(10, 8))\n",
    "    plt.imshow(conf_matrix, interpolation='nearest', cmap=plt.get_cmap('Blues'))\n",
    "    plt.title('Matriz de Confusión')\n",
    "    plt.colorbar()\n",
    "\n",
    "    # Etiquetas de los ejes\n",
    "    tick_marks = np.arange(len(conf_matrix))\n",
    "    plt.xticks(tick_marks, tick_marks)\n",
    "    plt.yticks(tick_marks, tick_marks)\n",
    "\n",
    "    # Añadir valores en los cuadros\n",
    "    for i in range(len(conf_matrix)):\n",
    "        for j in range(len(conf_matrix)):\n",
    "            plt.text(j, i, format(conf_matrix[i, j], 'd'), horizontalalignment=\"center\", color=\"black\")\n",
    "\n",
    "    plt.ylabel('Clase Real')\n",
    "    plt.xlabel('Clase Predicha')\n",
    "    plt.tight_layout()\n",
    "    plt.show()\n",
    "\n",
    "# Llamar a la función para visualizar la matriz de confusión\n",
    "plot_confusion_matrix(conf_matrix)"
   ]
  },
  {
   "cell_type": "markdown",
   "metadata": {},
   "source": [
    "#### Interpretación de la Confusion Matrix\n",
    "\n",
    "La matriz de confusión tiene 9 clases (porque hay 9 filas y 9 columnas), lo cual indica que estamos analizando un problema de clasificación multiclase con 9 clases diferentes.\n",
    "\n",
    "|||\n",
    "|--|--|\n",
    "|Filas:| Representan las clases reales.|\n",
    "|Columnas:| Representan las clases predichas por el modelo.|\n",
    "\n",
    "\n",
    "#### Interpretación Detallada:\n",
    "\n",
    "Tomaremos la primera fila y la primera columna. Esto se repite para cada fila y columna de la matriz.\n",
    "\n",
    "* Fila 0 (Clase real 0):\n",
    "    * El modelo predijo 502 instancias como pertenecientes a la clase 0 (predicciones correctas para la clase 0).\n",
    "    * De las instancias que realmente pertenecían a la clase 0, el modelo predijo incorrectamente 36 como clase 1, 10 como clase 2, 13 como clase 3, 116 como clase 4, 221 como clase 5, 38 como clase 6, 2 como clase 7, y 91 como clase 8.\n"
   ]
  },
  {
   "cell_type": "code",
   "execution_count": 60,
   "metadata": {},
   "outputs": [
    {
     "name": "stdout",
     "output_type": "stream",
     "text": [
      "\n",
      "Importancia de las características:\n",
      "MaxTemp: 0.2742\n",
      "MinTemp: 0.2443\n",
      "Month: 0.1434\n",
      "Day: 0.0925\n",
      "WindSpeed3pm: 0.1289\n",
      "WindSpeed9am: 0.1167\n"
     ]
    }
   ],
   "source": [
    "\n",
    "# Características más importantes\n",
    "feature_importances = rfc.feature_importances_\n",
    "print(\"\\nImportancia de las características:\")\n",
    "for feature, importance in zip(X.columns, feature_importances):\n",
    "    print(f'{feature}: {importance:.4f}')"
   ]
  },
  {
   "cell_type": "markdown",
   "metadata": {},
   "source": [
    "## Guardar el modelo"
   ]
  },
  {
   "cell_type": "code",
   "execution_count": 62,
   "metadata": {},
   "outputs": [
    {
     "data": {
      "text/plain": [
       "['../app/random_forest_model.pkl']"
      ]
     },
     "execution_count": 62,
     "metadata": {},
     "output_type": "execute_result"
    }
   ],
   "source": [
    "# Guardar el modelo entrenado en un archivo .pkl\n",
    "\n",
    "joblib.dump(rfc, '../app/random_forest_model.pkl')\n"
   ]
  },
  {
   "cell_type": "markdown",
   "metadata": {},
   "source": [
    "## Predicciones manuales"
   ]
  },
  {
   "cell_type": "code",
   "execution_count": 67,
   "metadata": {},
   "outputs": [
    {
     "name": "stdout",
     "output_type": "stream",
     "text": [
      "[4]\n"
     ]
    }
   ],
   "source": [
    "new_data = pd.DataFrame({'MaxTemp': [22.4], 'MinTemp': [10.5],'Month':[2],'Day':[1],'WindSpeed3pm':[30.0],'WindSpeed9am':[37.0]})  \n",
    "predictions = rfc.predict(new_data)\n",
    "print(predictions)\n"
   ]
  },
  {
   "cell_type": "markdown",
   "metadata": {},
   "source": [
    "## Predicciones con APP"
   ]
  },
  {
   "cell_type": "code",
   "execution_count": 75,
   "metadata": {},
   "outputs": [
    {
     "name": "stdout",
     "output_type": "stream",
     "text": [
      "[6]\n"
     ]
    }
   ],
   "source": [
    "# Cargar el modelo guardado\n",
    "loaded_model = joblib.load('../app/random_forest_model.pkl')\n",
    "\n",
    "# Hacer predicciones con nuevos datos\n",
    "new_data = pd.DataFrame({'MaxTemp': [22.4], 'MinTemp': [6.5],'Month':[8],'Day':[10],'WindSpeed3pm':[18.0],'WindSpeed9am':[18.0]})\n",
    "predictions = loaded_model.predict(new_data)\n",
    "\n",
    "print(predictions)"
   ]
  },
  {
   "cell_type": "markdown",
   "metadata": {},
   "source": [
    "## Validando las Predicciones"
   ]
  },
  {
   "cell_type": "code",
   "execution_count": null,
   "metadata": {},
   "outputs": [],
   "source": [
    "\n",
    "conjunto_de_datos_para_primer_modelo.query(\"Location == 6 and  MaxTemp == 22.4 and WindSpeed3pm >18 \")"
   ]
  },
  {
   "cell_type": "code",
   "execution_count": 78,
   "metadata": {},
   "outputs": [
    {
     "data": {
      "text/html": [
       "<div>\n",
       "<style scoped>\n",
       "    .dataframe tbody tr th:only-of-type {\n",
       "        vertical-align: middle;\n",
       "    }\n",
       "\n",
       "    .dataframe tbody tr th {\n",
       "        vertical-align: top;\n",
       "    }\n",
       "\n",
       "    .dataframe thead th {\n",
       "        text-align: right;\n",
       "    }\n",
       "</style>\n",
       "<table border=\"1\" class=\"dataframe\">\n",
       "  <thead>\n",
       "    <tr style=\"text-align: right;\">\n",
       "      <th></th>\n",
       "      <th>MaxTemp</th>\n",
       "      <th>MinTemp</th>\n",
       "      <th>Month</th>\n",
       "      <th>Day</th>\n",
       "      <th>WindSpeed3pm</th>\n",
       "      <th>WindSpeed9am</th>\n",
       "      <th>Location</th>\n",
       "    </tr>\n",
       "  </thead>\n",
       "  <tbody>\n",
       "    <tr>\n",
       "      <th>32026</th>\n",
       "      <td>22.4</td>\n",
       "      <td>14.7</td>\n",
       "      <td>4</td>\n",
       "      <td>10</td>\n",
       "      <td>20.0</td>\n",
       "      <td>13.0</td>\n",
       "      <td>6</td>\n",
       "    </tr>\n",
       "    <tr>\n",
       "      <th>42499</th>\n",
       "      <td>22.4</td>\n",
       "      <td>16.9</td>\n",
       "      <td>3</td>\n",
       "      <td>10</td>\n",
       "      <td>20.0</td>\n",
       "      <td>9.0</td>\n",
       "      <td>8</td>\n",
       "    </tr>\n",
       "    <tr>\n",
       "      <th>43350</th>\n",
       "      <td>22.4</td>\n",
       "      <td>14.2</td>\n",
       "      <td>9</td>\n",
       "      <td>10</td>\n",
       "      <td>30.0</td>\n",
       "      <td>6.0</td>\n",
       "      <td>8</td>\n",
       "    </tr>\n",
       "  </tbody>\n",
       "</table>\n",
       "</div>"
      ],
      "text/plain": [
       "       MaxTemp  MinTemp  Month  Day  WindSpeed3pm  WindSpeed9am  Location\n",
       "32026     22.4     14.7      4   10          20.0          13.0         6\n",
       "42499     22.4     16.9      3   10          20.0           9.0         8\n",
       "43350     22.4     14.2      9   10          30.0           6.0         8"
      ]
     },
     "execution_count": 78,
     "metadata": {},
     "output_type": "execute_result"
    }
   ],
   "source": [
    "conjunto_de_datos_para_primer_modelo.query(\"MaxTemp == 22.4 and WindSpeed3pm > 18 and Day == 10 \")"
   ]
  }
 ],
 "metadata": {
  "kernelspec": {
   "display_name": "env",
   "language": "python",
   "name": "python3"
  },
  "language_info": {
   "codemirror_mode": {
    "name": "ipython",
    "version": 3
   },
   "file_extension": ".py",
   "mimetype": "text/x-python",
   "name": "python",
   "nbconvert_exporter": "python",
   "pygments_lexer": "ipython3",
   "version": "3.10.4"
  }
 },
 "nbformat": 4,
 "nbformat_minor": 2
}
